{
 "cells": [
  {
   "cell_type": "markdown",
   "id": "51ef05ae",
   "metadata": {},
   "source": [
    "# Efficient Yelp API Calls (Core)\n"
   ]
  },
  {
   "cell_type": "markdown",
   "id": "f2bfdb20",
   "metadata": {},
   "source": [
    "## Assignment: \n",
    "- For this assignment, you will be working with the Yelp API.\n",
    "\n",
    "- As before, you will use the Yelp API to search your favorite city for a cuisine type of your choice.\n",
    "\n",
    "- Extract all of the results from your search and compile them into one dataframe using a for loop as shown in the lesson \"Code for Efficient API Extraction\"\n",
    "\n",
    "- Save your notebook, commit the change to your repository and submit the repository URL for this assignment."
   ]
  },
  {
   "cell_type": "markdown",
   "id": "cb6979e7",
   "metadata": {},
   "source": [
    "## Imports"
   ]
  },
  {
   "cell_type": "code",
   "execution_count": 3,
   "id": "3b40ee59",
   "metadata": {},
   "outputs": [],
   "source": [
    "import numpy as np\n",
    "import pandas as pd\n",
    "import matplotlib.pyplot as plt\n",
    "import seaborn as sns\n",
    "\n",
    "import os, json, math, time\n",
    "from yelpapi import YelpAPI\n",
    "from tqdm.notebook import tqdm_notebook"
   ]
  },
  {
   "cell_type": "code",
   "execution_count": 2,
   "id": "869c748b",
   "metadata": {},
   "outputs": [
    {
     "name": "stdout",
     "output_type": "stream",
     "text": [
      "Collecting yelpapi\n",
      "  Downloading yelpapi-2.5.0-py3-none-any.whl (7.4 kB)\n",
      "Requirement already satisfied: requests in /opt/homebrew/Caskroom/miniforge/base/envs/dojo-env/lib/python3.9/site-packages (from yelpapi) (2.28.1)\n",
      "Requirement already satisfied: idna<4,>=2.5 in /opt/homebrew/Caskroom/miniforge/base/envs/dojo-env/lib/python3.9/site-packages (from requests->yelpapi) (3.4)\n",
      "Requirement already satisfied: urllib3<1.27,>=1.21.1 in /opt/homebrew/Caskroom/miniforge/base/envs/dojo-env/lib/python3.9/site-packages (from requests->yelpapi) (1.26.13)\n",
      "Requirement already satisfied: charset-normalizer<3,>=2 in /opt/homebrew/Caskroom/miniforge/base/envs/dojo-env/lib/python3.9/site-packages (from requests->yelpapi) (2.0.4)\n",
      "Requirement already satisfied: certifi>=2017.4.17 in /opt/homebrew/Caskroom/miniforge/base/envs/dojo-env/lib/python3.9/site-packages (from requests->yelpapi) (2022.9.24)\n",
      "Installing collected packages: yelpapi\n",
      "Successfully installed yelpapi-2.5.0\n",
      "Requirement already satisfied: tqdm in /opt/homebrew/Caskroom/miniforge/base/envs/dojo-env/lib/python3.9/site-packages (4.64.1)\n"
     ]
    }
   ],
   "source": [
    "!pip install yelpapi\n",
    "!pip install tqdm"
   ]
  },
  {
   "cell_type": "code",
   "execution_count": 4,
   "id": "f92cd2b0",
   "metadata": {},
   "outputs": [],
   "source": [
    "with open('/Users/willrodemoyer/.secret/yelp_api.json', 'r') as f:\n",
    "    login = json.load(f)"
   ]
  },
  {
   "cell_type": "code",
   "execution_count": 5,
   "id": "26038612",
   "metadata": {},
   "outputs": [
    {
     "data": {
      "text/plain": [
       "dict_keys(['client-id', 'api-key'])"
      ]
     },
     "execution_count": 5,
     "metadata": {},
     "output_type": "execute_result"
    }
   ],
   "source": [
    "login.keys()"
   ]
  },
  {
   "cell_type": "code",
   "execution_count": 6,
   "id": "3e7fa9d6",
   "metadata": {},
   "outputs": [],
   "source": [
    "yelp = YelpAPI(login['api-key'], timeout_s= 5.0)"
   ]
  },
  {
   "cell_type": "markdown",
   "id": "a4a4e1ff",
   "metadata": {},
   "source": [
    "## Define Search"
   ]
  },
  {
   "cell_type": "code",
   "execution_count": 7,
   "id": "4da75b31",
   "metadata": {},
   "outputs": [],
   "source": [
    "location= 'Denver, CO 80205'\n",
    "term= 'pizza'"
   ]
  },
  {
   "cell_type": "code",
   "execution_count": 8,
   "id": "7d46f63a",
   "metadata": {},
   "outputs": [
    {
     "data": {
      "text/plain": [
       "'Denver'"
      ]
     },
     "execution_count": 8,
     "metadata": {},
     "output_type": "execute_result"
    }
   ],
   "source": [
    "location.split(',')[0]"
   ]
  },
  {
   "cell_type": "code",
   "execution_count": 10,
   "id": "881cd134",
   "metadata": {},
   "outputs": [],
   "source": [
    "FOLDER = 'Data/'\n",
    "\n",
    "os.makedirs(FOLDER, exist_ok= True)\n",
    "\n",
    "JSON_FILE = FOLDER+f\"{location.split(',')[0]}-{term}.json\""
   ]
  },
  {
   "cell_type": "code",
   "execution_count": 11,
   "id": "55448b5b",
   "metadata": {},
   "outputs": [
    {
     "data": {
      "text/plain": [
       "'Data/Denver-pizza.json'"
      ]
     },
     "execution_count": 11,
     "metadata": {},
     "output_type": "execute_result"
    }
   ],
   "source": [
    "JSON_FILE"
   ]
  },
  {
   "cell_type": "code",
   "execution_count": 12,
   "id": "17b0b880",
   "metadata": {},
   "outputs": [
    {
     "name": "stdout",
     "output_type": "stream",
     "text": [
      "[i] Data/Denver-pizza.json not found. Saving empty list to file.\n"
     ]
    }
   ],
   "source": [
    "file_exists = os.path.isfile(JSON_FILE)\n",
    "## If it does not exist: \n",
    "if file_exists == False:\n",
    "    \n",
    "    ## CREATE ANY NEEDED FOLDERS\n",
    "    # Get the Folder Name only\n",
    "    folder = os.path.dirname(JSON_FILE)\n",
    "    ## If JSON_FILE included a folder:\n",
    "    if len(folder)>0:\n",
    "        # create the folder\n",
    "        os.makedirs(folder,exist_ok=True)\n",
    "        \n",
    "        \n",
    "    ## INFORM USER AND SAVE EMPTY LIST\n",
    "    print(f'[i] {JSON_FILE} not found. Saving empty list to file.')\n",
    "    \n",
    "    \n",
    "    # save an empty list\n",
    "    with open(JSON_FILE,'w') as f:\n",
    "        json.dump([],f)  \n",
    "# If it exists, inform user\n",
    "else:\n",
    "    print(f\"[i] {JSON_FILE} already exists.\")"
   ]
  },
  {
   "cell_type": "code",
   "execution_count": 13,
   "id": "07e759c7",
   "metadata": {},
   "outputs": [
    {
     "name": "stdout",
     "output_type": "stream",
     "text": [
      "- 0 previous results found.\n"
     ]
    }
   ],
   "source": [
    "with open(JSON_FILE,'r') as f:\n",
    "    previous_results = json.load(f)\n",
    "    \n",
    "# set offset based on previous results\n",
    "n_results = len(previous_results)\n",
    "print(f'- {n_results} previous results found.')"
   ]
  },
  {
   "cell_type": "code",
   "execution_count": 15,
   "id": "7edc9a4e",
   "metadata": {},
   "outputs": [
    {
     "data": {
      "text/plain": [
       "dict_keys(['businesses', 'total', 'region'])"
      ]
     },
     "execution_count": 15,
     "metadata": {},
     "output_type": "execute_result"
    }
   ],
   "source": [
    "results = yelp.search_query(location= location,\n",
    "                                term=term)                        \n",
    "results.keys()"
   ]
  },
  {
   "cell_type": "code",
   "execution_count": 16,
   "id": "cb075cc4",
   "metadata": {},
   "outputs": [
    {
     "data": {
      "text/plain": [
       "dict"
      ]
     },
     "execution_count": 16,
     "metadata": {},
     "output_type": "execute_result"
    }
   ],
   "source": [
    "type(results)"
   ]
  },
  {
   "cell_type": "code",
   "execution_count": 17,
   "id": "5e03efb0",
   "metadata": {},
   "outputs": [
    {
     "data": {
      "text/plain": [
       "3"
      ]
     },
     "execution_count": 17,
     "metadata": {},
     "output_type": "execute_result"
    }
   ],
   "source": [
    "len(results)"
   ]
  },
  {
   "cell_type": "code",
   "execution_count": 18,
   "id": "31eededa",
   "metadata": {},
   "outputs": [
    {
     "data": {
      "text/plain": [
       "675"
      ]
     },
     "execution_count": 18,
     "metadata": {},
     "output_type": "execute_result"
    }
   ],
   "source": [
    "results['total']"
   ]
  },
  {
   "cell_type": "code",
   "execution_count": 19,
   "id": "5c82bb18",
   "metadata": {},
   "outputs": [
    {
     "data": {
      "text/plain": [
       "[{'id': 'Yk84dALUw0TPPf9sMuu2hg',\n",
       "  'alias': 'redeemer-pizza-denver',\n",
       "  'name': 'Redeemer Pizza',\n",
       "  'image_url': 'https://s3-media4.fl.yelpcdn.com/bphoto/tmZdbkbfJ_qDmYzf6j8_0A/o.jpg',\n",
       "  'is_closed': False,\n",
       "  'url': 'https://www.yelp.com/biz/redeemer-pizza-denver?adjust_creative=nhyOXwry0_tSX8AWBmAcIw&utm_campaign=yelp_api_v3&utm_medium=api_v3_business_search&utm_source=nhyOXwry0_tSX8AWBmAcIw',\n",
       "  'review_count': 128,\n",
       "  'categories': [{'alias': 'pizza', 'title': 'Pizza'}],\n",
       "  'rating': 4.5,\n",
       "  'coordinates': {'latitude': 39.75975, 'longitude': -104.98405},\n",
       "  'transactions': ['pickup', 'delivery'],\n",
       "  'location': {'address1': '2705 Larimer St',\n",
       "   'address2': None,\n",
       "   'address3': '',\n",
       "   'city': 'Denver',\n",
       "   'zip_code': '80205',\n",
       "   'country': 'US',\n",
       "   'state': 'CO',\n",
       "   'display_address': ['2705 Larimer St', 'Denver, CO 80205']},\n",
       "  'phone': '+17207801379',\n",
       "  'display_phone': '(720) 780-1379',\n",
       "  'distance': 1321.4275024895007},\n",
       " {'id': 'B_1cqks5CI5N_viXXLuLWg',\n",
       "  'alias': 'brooklyns-finest-pizza-denver-3',\n",
       "  'name': \"Brooklyn's Finest Pizza\",\n",
       "  'image_url': 'https://s3-media3.fl.yelpcdn.com/bphoto/KZf9Qbcnh5hWCak5qEybog/o.jpg',\n",
       "  'is_closed': False,\n",
       "  'url': 'https://www.yelp.com/biz/brooklyns-finest-pizza-denver-3?adjust_creative=nhyOXwry0_tSX8AWBmAcIw&utm_campaign=yelp_api_v3&utm_medium=api_v3_business_search&utm_source=nhyOXwry0_tSX8AWBmAcIw',\n",
       "  'review_count': 215,\n",
       "  'categories': [{'alias': 'pizza', 'title': 'Pizza'},\n",
       "   {'alias': 'italian', 'title': 'Italian'},\n",
       "   {'alias': 'sandwiches', 'title': 'Sandwiches'}],\n",
       "  'rating': 4.5,\n",
       "  'coordinates': {'latitude': 39.746419, 'longitude': -104.993448},\n",
       "  'transactions': ['pickup', 'delivery'],\n",
       "  'price': '$',\n",
       "  'location': {'address1': '825 16th St Mall',\n",
       "   'address2': '',\n",
       "   'address3': None,\n",
       "   'city': 'Denver',\n",
       "   'zip_code': '80202',\n",
       "   'country': 'US',\n",
       "   'state': 'CO',\n",
       "   'display_address': ['825 16th St Mall', 'Denver, CO 80202']},\n",
       "  'phone': '+13035733779',\n",
       "  'display_phone': '(303) 573-3779',\n",
       "  'distance': 2710.962635631097},\n",
       " {'id': 'n18mJPI6mQfBJEp8UrITyw',\n",
       "  'alias': 'blue-pan-pizza-denver-4',\n",
       "  'name': 'Blue Pan Pizza',\n",
       "  'image_url': 'https://s3-media2.fl.yelpcdn.com/bphoto/EAkVmoSTsGkaq8WvDFpPDg/o.jpg',\n",
       "  'is_closed': False,\n",
       "  'url': 'https://www.yelp.com/biz/blue-pan-pizza-denver-4?adjust_creative=nhyOXwry0_tSX8AWBmAcIw&utm_campaign=yelp_api_v3&utm_medium=api_v3_business_search&utm_source=nhyOXwry0_tSX8AWBmAcIw',\n",
       "  'review_count': 697,\n",
       "  'categories': [{'alias': 'pizza', 'title': 'Pizza'},\n",
       "   {'alias': 'italian', 'title': 'Italian'}],\n",
       "  'rating': 4.5,\n",
       "  'coordinates': {'latitude': 39.735349, 'longitude': -104.945823},\n",
       "  'transactions': ['delivery'],\n",
       "  'price': '$$',\n",
       "  'location': {'address1': '3509 E 12th Ave',\n",
       "   'address2': '',\n",
       "   'address3': None,\n",
       "   'city': 'Denver',\n",
       "   'zip_code': '80206',\n",
       "   'country': 'US',\n",
       "   'state': 'CO',\n",
       "   'display_address': ['3509 E 12th Ave', 'Denver, CO 80206']},\n",
       "  'phone': '+17205190944',\n",
       "  'display_phone': '(720) 519-0944',\n",
       "  'distance': 3542.8393512898256},\n",
       " {'id': 'kI5oOBAGS-Vo4chwmgOVmQ',\n",
       "  'alias': 'cart-driver-denver',\n",
       "  'name': 'Cart-Driver',\n",
       "  'image_url': 'https://s3-media1.fl.yelpcdn.com/bphoto/YzE2PjIea5YTvk0jo3zLYw/o.jpg',\n",
       "  'is_closed': False,\n",
       "  'url': 'https://www.yelp.com/biz/cart-driver-denver?adjust_creative=nhyOXwry0_tSX8AWBmAcIw&utm_campaign=yelp_api_v3&utm_medium=api_v3_business_search&utm_source=nhyOXwry0_tSX8AWBmAcIw',\n",
       "  'review_count': 641,\n",
       "  'categories': [{'alias': 'pizza', 'title': 'Pizza'},\n",
       "   {'alias': 'italian', 'title': 'Italian'},\n",
       "   {'alias': 'bars', 'title': 'Bars'}],\n",
       "  'rating': 4.5,\n",
       "  'coordinates': {'latitude': 39.7575443618608, 'longitude': -104.98618460866},\n",
       "  'transactions': ['pickup', 'delivery'],\n",
       "  'price': '$$',\n",
       "  'location': {'address1': '2500 Larimer St',\n",
       "   'address2': 'Ste 100',\n",
       "   'address3': '',\n",
       "   'city': 'Denver',\n",
       "   'zip_code': '80205',\n",
       "   'country': 'US',\n",
       "   'state': 'CO',\n",
       "   'display_address': ['2500 Larimer St', 'Ste 100', 'Denver, CO 80205']},\n",
       "  'phone': '+13032923553',\n",
       "  'display_phone': '(303) 292-3553',\n",
       "  'distance': 1554.6102290018157},\n",
       " {'id': 'ofPa6i98oFCiq0zoWj1cvw',\n",
       "  'alias': 'black-shirt-brewing-denver-5',\n",
       "  'name': 'Black Shirt Brewing',\n",
       "  'image_url': 'https://s3-media3.fl.yelpcdn.com/bphoto/meal5lcj8rU6eOKsmLbLeQ/o.jpg',\n",
       "  'is_closed': False,\n",
       "  'url': 'https://www.yelp.com/biz/black-shirt-brewing-denver-5?adjust_creative=nhyOXwry0_tSX8AWBmAcIw&utm_campaign=yelp_api_v3&utm_medium=api_v3_business_search&utm_source=nhyOXwry0_tSX8AWBmAcIw',\n",
       "  'review_count': 411,\n",
       "  'categories': [{'alias': 'breweries', 'title': 'Breweries'},\n",
       "   {'alias': 'pizza', 'title': 'Pizza'},\n",
       "   {'alias': 'musicvenues', 'title': 'Music Venues'}],\n",
       "  'rating': 4.5,\n",
       "  'coordinates': {'latitude': 39.7697672895761,\n",
       "   'longitude': -104.972935177909},\n",
       "  'transactions': ['pickup', 'delivery'],\n",
       "  'price': '$$',\n",
       "  'location': {'address1': '3719 Walnut St',\n",
       "   'address2': '',\n",
       "   'address3': '',\n",
       "   'city': 'Denver',\n",
       "   'zip_code': '80205',\n",
       "   'country': 'US',\n",
       "   'state': 'CO',\n",
       "   'display_address': ['3719 Walnut St', 'Denver, CO 80205']},\n",
       "  'phone': '+13039932799',\n",
       "  'display_phone': '(303) 993-2799',\n",
       "  'distance': 948.7145104084676},\n",
       " {'id': 'alVuEHMqyyTpXZKcIfKT9w',\n",
       "  'alias': 'white-pie-denver',\n",
       "  'name': 'White Pie',\n",
       "  'image_url': 'https://s3-media3.fl.yelpcdn.com/bphoto/-v__WcO2wmDVe0VSepDVuw/o.jpg',\n",
       "  'is_closed': False,\n",
       "  'url': 'https://www.yelp.com/biz/white-pie-denver?adjust_creative=nhyOXwry0_tSX8AWBmAcIw&utm_campaign=yelp_api_v3&utm_medium=api_v3_business_search&utm_source=nhyOXwry0_tSX8AWBmAcIw',\n",
       "  'review_count': 411,\n",
       "  'categories': [{'alias': 'pizza', 'title': 'Pizza'},\n",
       "   {'alias': 'wine_bars', 'title': 'Wine Bars'}],\n",
       "  'rating': 4.5,\n",
       "  'coordinates': {'latitude': 39.74348039, 'longitude': -104.96942428},\n",
       "  'transactions': ['pickup', 'delivery'],\n",
       "  'price': '$$',\n",
       "  'location': {'address1': '1702 Humboldt St',\n",
       "   'address2': None,\n",
       "   'address3': '',\n",
       "   'city': 'Denver',\n",
       "   'zip_code': '80218',\n",
       "   'country': 'US',\n",
       "   'state': 'CO',\n",
       "   'display_address': ['1702 Humboldt St', 'Denver, CO 80218']},\n",
       "  'phone': '+13038625323',\n",
       "  'display_phone': '(303) 862-5323',\n",
       "  'distance': 2040.6449169127725},\n",
       " {'id': 'G6ckyL7AK1qNyRop7xHa4g',\n",
       "  'alias': 'marcos-coal-fired-ballpark-denver',\n",
       "  'name': \"Marco's Coal Fired-Ballpark\",\n",
       "  'image_url': 'https://s3-media1.fl.yelpcdn.com/bphoto/HXvPkCvE-UBBTjpNrYh6eg/o.jpg',\n",
       "  'is_closed': False,\n",
       "  'url': 'https://www.yelp.com/biz/marcos-coal-fired-ballpark-denver?adjust_creative=nhyOXwry0_tSX8AWBmAcIw&utm_campaign=yelp_api_v3&utm_medium=api_v3_business_search&utm_source=nhyOXwry0_tSX8AWBmAcIw',\n",
       "  'review_count': 1364,\n",
       "  'categories': [{'alias': 'pizza', 'title': 'Pizza'},\n",
       "   {'alias': 'italian', 'title': 'Italian'},\n",
       "   {'alias': 'beerbar', 'title': 'Beer Bar'}],\n",
       "  'rating': 4.5,\n",
       "  'coordinates': {'latitude': 39.75452, 'longitude': -104.99106},\n",
       "  'transactions': ['pickup', 'delivery'],\n",
       "  'price': '$$',\n",
       "  'location': {'address1': '2129 Larimer St',\n",
       "   'address2': '',\n",
       "   'address3': '',\n",
       "   'city': 'Denver',\n",
       "   'zip_code': '80205',\n",
       "   'country': 'US',\n",
       "   'state': 'CO',\n",
       "   'display_address': ['2129 Larimer St', 'Denver, CO 80205']},\n",
       "  'phone': '+13032967000',\n",
       "  'display_phone': '(303) 296-7000',\n",
       "  'distance': 2058.118410985345},\n",
       " {'id': 'BSqByGxmYdGNqXINjLeKDg',\n",
       "  'alias': 'famous-original-js-pizza-denver',\n",
       "  'name': \"Famous Original J's Pizza\",\n",
       "  'image_url': 'https://s3-media1.fl.yelpcdn.com/bphoto/xP_xhmxwm1QZfsteh6m5gg/o.jpg',\n",
       "  'is_closed': False,\n",
       "  'url': 'https://www.yelp.com/biz/famous-original-js-pizza-denver?adjust_creative=nhyOXwry0_tSX8AWBmAcIw&utm_campaign=yelp_api_v3&utm_medium=api_v3_business_search&utm_source=nhyOXwry0_tSX8AWBmAcIw',\n",
       "  'review_count': 147,\n",
       "  'categories': [{'alias': 'pizza', 'title': 'Pizza'},\n",
       "   {'alias': 'vegan', 'title': 'Vegan'},\n",
       "   {'alias': 'gluten_free', 'title': 'Gluten-Free'}],\n",
       "  'rating': 4.0,\n",
       "  'coordinates': {'latitude': 39.75481, 'longitude': -104.97756},\n",
       "  'transactions': ['pickup', 'delivery'],\n",
       "  'price': '$',\n",
       "  'location': {'address1': '715 E 26th Ave',\n",
       "   'address2': None,\n",
       "   'address3': '',\n",
       "   'city': 'Denver',\n",
       "   'zip_code': '80205',\n",
       "   'country': 'US',\n",
       "   'state': 'CO',\n",
       "   'display_address': ['715 E 26th Ave', 'Denver, CO 80205']},\n",
       "  'phone': '+17204209102',\n",
       "  'display_phone': '(720) 420-9102',\n",
       "  'distance': 1077.1982878620956},\n",
       " {'id': 'V4K--8TIaM3iNxy85nELVw',\n",
       "  'alias': 'sliceworks-denver',\n",
       "  'name': 'Sliceworks',\n",
       "  'image_url': 'https://s3-media1.fl.yelpcdn.com/bphoto/DRm7B-Brk3jhMrQ20tvNdw/o.jpg',\n",
       "  'is_closed': False,\n",
       "  'url': 'https://www.yelp.com/biz/sliceworks-denver?adjust_creative=nhyOXwry0_tSX8AWBmAcIw&utm_campaign=yelp_api_v3&utm_medium=api_v3_business_search&utm_source=nhyOXwry0_tSX8AWBmAcIw',\n",
       "  'review_count': 605,\n",
       "  'categories': [{'alias': 'pizza', 'title': 'Pizza'}],\n",
       "  'rating': 4.0,\n",
       "  'coordinates': {'latitude': 39.73973, 'longitude': -104.97843},\n",
       "  'transactions': ['pickup', 'delivery'],\n",
       "  'price': '$',\n",
       "  'location': {'address1': '700 E Colfax Ave',\n",
       "   'address2': None,\n",
       "   'address3': '',\n",
       "   'city': 'Denver',\n",
       "   'zip_code': '80203',\n",
       "   'country': 'US',\n",
       "   'state': 'CO',\n",
       "   'display_address': ['700 E Colfax Ave', 'Denver, CO 80203']},\n",
       "  'phone': '+13039938127',\n",
       "  'display_phone': '(303) 993-8127',\n",
       "  'distance': 2582.440902481338},\n",
       " {'id': 'RtbHHTs4vdKUJdVQAGrwfw',\n",
       "  'alias': 'sliceworks-denver-2',\n",
       "  'name': 'Sliceworks',\n",
       "  'image_url': 'https://s3-media2.fl.yelpcdn.com/bphoto/vsGs2ovjO_TgZgG5rg31Zg/o.jpg',\n",
       "  'is_closed': False,\n",
       "  'url': 'https://www.yelp.com/biz/sliceworks-denver-2?adjust_creative=nhyOXwry0_tSX8AWBmAcIw&utm_campaign=yelp_api_v3&utm_medium=api_v3_business_search&utm_source=nhyOXwry0_tSX8AWBmAcIw',\n",
       "  'review_count': 595,\n",
       "  'categories': [{'alias': 'pizza', 'title': 'Pizza'},\n",
       "   {'alias': 'italian', 'title': 'Italian'}],\n",
       "  'rating': 4.0,\n",
       "  'coordinates': {'latitude': 39.7514296, 'longitude': -104.9975789},\n",
       "  'transactions': ['delivery'],\n",
       "  'price': '$',\n",
       "  'location': {'address1': '1433 17th St',\n",
       "   'address2': 'Ste 100',\n",
       "   'address3': '',\n",
       "   'city': 'Denver',\n",
       "   'zip_code': '80202',\n",
       "   'country': 'US',\n",
       "   'state': 'CO',\n",
       "   'display_address': ['1433 17th St', 'Ste 100', 'Denver, CO 80202']},\n",
       "  'phone': '+13032973464',\n",
       "  'display_phone': '(303) 297-3464',\n",
       "  'distance': 2712.6775853432227},\n",
       " {'id': 'wWnBybKYcWsco4nVQ0GqJg',\n",
       "  'alias': 'walters303-uptown-denver-6',\n",
       "  'name': 'Walters303 - Uptown',\n",
       "  'image_url': 'https://s3-media1.fl.yelpcdn.com/bphoto/zvq0Ha9-RnTZEn1SKKSzAw/o.jpg',\n",
       "  'is_closed': False,\n",
       "  'url': 'https://www.yelp.com/biz/walters303-uptown-denver-6?adjust_creative=nhyOXwry0_tSX8AWBmAcIw&utm_campaign=yelp_api_v3&utm_medium=api_v3_business_search&utm_source=nhyOXwry0_tSX8AWBmAcIw',\n",
       "  'review_count': 404,\n",
       "  'categories': [{'alias': 'pizza', 'title': 'Pizza'},\n",
       "   {'alias': 'beerbar', 'title': 'Beer Bar'},\n",
       "   {'alias': 'chicken_wings', 'title': 'Chicken Wings'}],\n",
       "  'rating': 4.0,\n",
       "  'coordinates': {'latitude': 39.7463, 'longitude': -104.97974},\n",
       "  'transactions': ['pickup'],\n",
       "  'price': '$$',\n",
       "  'location': {'address1': '1906 Pearl St',\n",
       "   'address2': '',\n",
       "   'address3': '',\n",
       "   'city': 'Denver',\n",
       "   'zip_code': '80203',\n",
       "   'country': 'US',\n",
       "   'state': 'CO',\n",
       "   'display_address': ['1906 Pearl St', 'Denver, CO 80203']},\n",
       "  'phone': '+13038649000',\n",
       "  'display_phone': '(303) 864-9000',\n",
       "  'distance': 1960.9472773961402},\n",
       " {'id': 'iM8ijTk7rpzcwGAIm7thwg',\n",
       "  'alias': 'gattara-denver-2',\n",
       "  'name': 'Gattara',\n",
       "  'image_url': 'https://s3-media2.fl.yelpcdn.com/bphoto/Piml665coy_NDCsLBcaWFw/o.jpg',\n",
       "  'is_closed': False,\n",
       "  'url': 'https://www.yelp.com/biz/gattara-denver-2?adjust_creative=nhyOXwry0_tSX8AWBmAcIw&utm_campaign=yelp_api_v3&utm_medium=api_v3_business_search&utm_source=nhyOXwry0_tSX8AWBmAcIw',\n",
       "  'review_count': 92,\n",
       "  'categories': [{'alias': 'italian', 'title': 'Italian'},\n",
       "   {'alias': 'pizza', 'title': 'Pizza'},\n",
       "   {'alias': 'cocktailbars', 'title': 'Cocktail Bars'}],\n",
       "  'rating': 4.0,\n",
       "  'coordinates': {'latitude': 39.744387, 'longitude': -104.983221},\n",
       "  'transactions': ['restaurant_reservation', 'pickup', 'delivery'],\n",
       "  'location': {'address1': '1776 Grant St',\n",
       "   'address2': '',\n",
       "   'address3': '',\n",
       "   'city': 'Denver',\n",
       "   'zip_code': '80203',\n",
       "   'country': 'US',\n",
       "   'state': 'CO',\n",
       "   'display_address': ['1776 Grant St', 'Denver, CO 80203']},\n",
       "  'phone': '+13033187272',\n",
       "  'display_phone': '(303) 318-7272',\n",
       "  'distance': 2295.2639789273353},\n",
       " {'id': 'zHkX8xrmOsBx0G7BIPYoNw',\n",
       "  'alias': 'ians-pizza-denver-2',\n",
       "  'name': \"Ian's Pizza\",\n",
       "  'image_url': 'https://s3-media3.fl.yelpcdn.com/bphoto/Tw1_a8xP1KFGj42bbd-9ng/o.jpg',\n",
       "  'is_closed': False,\n",
       "  'url': 'https://www.yelp.com/biz/ians-pizza-denver-2?adjust_creative=nhyOXwry0_tSX8AWBmAcIw&utm_campaign=yelp_api_v3&utm_medium=api_v3_business_search&utm_source=nhyOXwry0_tSX8AWBmAcIw',\n",
       "  'review_count': 567,\n",
       "  'categories': [{'alias': 'pizza', 'title': 'Pizza'}],\n",
       "  'rating': 4.0,\n",
       "  'coordinates': {'latitude': 39.7562312792762, 'longitude': -104.99171739106},\n",
       "  'transactions': ['pickup', 'delivery'],\n",
       "  'price': '$',\n",
       "  'location': {'address1': '2210 Blake St',\n",
       "   'address2': '',\n",
       "   'address3': '',\n",
       "   'city': 'Denver',\n",
       "   'zip_code': '80205',\n",
       "   'country': 'US',\n",
       "   'state': 'CO',\n",
       "   'display_address': ['2210 Blake St', 'Denver, CO 80205']},\n",
       "  'phone': '+13032969000',\n",
       "  'display_phone': '(303) 296-9000',\n",
       "  'distance': 2049.564412701459},\n",
       " {'id': '-x_-cOEvdtJNNUnJ5IdUyg',\n",
       "  'alias': 'vero-italian-denver',\n",
       "  'name': 'Vero Italian',\n",
       "  'image_url': 'https://s3-media3.fl.yelpcdn.com/bphoto/i6SDo5Wp0Yz0rybECTxFhQ/o.jpg',\n",
       "  'is_closed': False,\n",
       "  'url': 'https://www.yelp.com/biz/vero-italian-denver?adjust_creative=nhyOXwry0_tSX8AWBmAcIw&utm_campaign=yelp_api_v3&utm_medium=api_v3_business_search&utm_source=nhyOXwry0_tSX8AWBmAcIw',\n",
       "  'review_count': 115,\n",
       "  'categories': [{'alias': 'pizza', 'title': 'Pizza'},\n",
       "   {'alias': 'italian', 'title': 'Italian'},\n",
       "   {'alias': 'pastashops', 'title': 'Pasta Shops'}],\n",
       "  'rating': 4.0,\n",
       "  'coordinates': {'latitude': 39.7594833374023,\n",
       "   'longitude': -104.984649658203},\n",
       "  'transactions': ['pickup', 'delivery'],\n",
       "  'price': '$$',\n",
       "  'location': {'address1': '2669 Larimer St',\n",
       "   'address2': '',\n",
       "   'address3': None,\n",
       "   'city': 'Denver',\n",
       "   'zip_code': '80205',\n",
       "   'country': 'US',\n",
       "   'state': 'CO',\n",
       "   'display_address': ['2669 Larimer St', 'Denver, CO 80205']},\n",
       "  'phone': '+13032968376',\n",
       "  'display_phone': '(303) 296-8376',\n",
       "  'distance': 1377.46837836163},\n",
       " {'id': 'q1NBlqmoLYkgJVSjQuGMKQ',\n",
       "  'alias': 'giordanos-denver-2',\n",
       "  'name': \"Giordano's\",\n",
       "  'image_url': 'https://s3-media1.fl.yelpcdn.com/bphoto/vlZ_Lof0BqIMW4SZf9jtdQ/o.jpg',\n",
       "  'is_closed': False,\n",
       "  'url': 'https://www.yelp.com/biz/giordanos-denver-2?adjust_creative=nhyOXwry0_tSX8AWBmAcIw&utm_campaign=yelp_api_v3&utm_medium=api_v3_business_search&utm_source=nhyOXwry0_tSX8AWBmAcIw',\n",
       "  'review_count': 465,\n",
       "  'categories': [{'alias': 'pizza', 'title': 'Pizza'},\n",
       "   {'alias': 'salad', 'title': 'Salad'}],\n",
       "  'rating': 3.5,\n",
       "  'coordinates': {'latitude': 39.74523, 'longitude': -104.99163},\n",
       "  'transactions': [],\n",
       "  'price': '$$',\n",
       "  'location': {'address1': '1600 California St',\n",
       "   'address2': '',\n",
       "   'address3': None,\n",
       "   'city': 'Denver',\n",
       "   'zip_code': '80202',\n",
       "   'country': 'US',\n",
       "   'state': 'CO',\n",
       "   'display_address': ['1600 California St', 'Denver, CO 80202']},\n",
       "  'phone': '+17208745205',\n",
       "  'display_phone': '(720) 874-5205',\n",
       "  'distance': 2681.903331217659},\n",
       " {'id': 'VFACYV_lGv9y4FV-_1m4Ig',\n",
       "  'alias': 'brooklyns-finest-pizza-lowell-denver',\n",
       "  'name': \"Brooklyn's Finest Pizza\",\n",
       "  'image_url': 'https://s3-media4.fl.yelpcdn.com/bphoto/6cPY-ZzCjPdyI_F_zOtsHA/o.jpg',\n",
       "  'is_closed': False,\n",
       "  'url': 'https://www.yelp.com/biz/brooklyns-finest-pizza-lowell-denver?adjust_creative=nhyOXwry0_tSX8AWBmAcIw&utm_campaign=yelp_api_v3&utm_medium=api_v3_business_search&utm_source=nhyOXwry0_tSX8AWBmAcIw',\n",
       "  'review_count': 506,\n",
       "  'categories': [{'alias': 'pizza', 'title': 'Pizza'},\n",
       "   {'alias': 'italian', 'title': 'Italian'},\n",
       "   {'alias': 'sandwiches', 'title': 'Sandwiches'}],\n",
       "  'rating': 4.5,\n",
       "  'coordinates': {'latitude': 39.7875680710371,\n",
       "   'longitude': -105.035032358198},\n",
       "  'transactions': ['pickup', 'delivery'],\n",
       "  'price': '$$',\n",
       "  'location': {'address1': '5007 Lowell Blvd',\n",
       "   'address2': '',\n",
       "   'address3': '',\n",
       "   'city': 'Denver',\n",
       "   'zip_code': '80221',\n",
       "   'country': 'US',\n",
       "   'state': 'CO',\n",
       "   'display_address': ['5007 Lowell Blvd', 'Denver, CO 80221']},\n",
       "  'phone': '+13034770066',\n",
       "  'display_phone': '(303) 477-0066',\n",
       "  'distance': 6337.279022146485},\n",
       " {'id': '0thNcWNwcN4NM85Y1sCNKQ',\n",
       "  'alias': 'sofias-pizza-denver',\n",
       "  'name': \"Sofia's Pizza\",\n",
       "  'image_url': 'https://s3-media3.fl.yelpcdn.com/bphoto/OPnzjhPKlCRvmi6NmxqjoQ/o.jpg',\n",
       "  'is_closed': False,\n",
       "  'url': 'https://www.yelp.com/biz/sofias-pizza-denver?adjust_creative=nhyOXwry0_tSX8AWBmAcIw&utm_campaign=yelp_api_v3&utm_medium=api_v3_business_search&utm_source=nhyOXwry0_tSX8AWBmAcIw',\n",
       "  'review_count': 15,\n",
       "  'categories': [{'alias': 'pizza', 'title': 'Pizza'}],\n",
       "  'rating': 4.0,\n",
       "  'coordinates': {'latitude': 39.750925, 'longitude': -105.000033},\n",
       "  'transactions': [],\n",
       "  'location': {'address1': '1530 16th St Mall',\n",
       "   'address2': 'Ste 101',\n",
       "   'address3': '',\n",
       "   'city': 'Denver',\n",
       "   'zip_code': '80202',\n",
       "   'country': 'US',\n",
       "   'state': 'CO',\n",
       "   'display_address': ['1530 16th St Mall', 'Ste 101', 'Denver, CO 80202']},\n",
       "  'phone': '',\n",
       "  'display_phone': '',\n",
       "  'distance': 2922.4168764209862},\n",
       " {'id': '3fQQey75sa1TEPuhzbu5-Q',\n",
       "  'alias': 'fat-sullys-pizza-denver-10',\n",
       "  'name': \"Fat Sully's Pizza\",\n",
       "  'image_url': 'https://s3-media2.fl.yelpcdn.com/bphoto/MBhr0c0xAUXwSyNsSJyT6Q/o.jpg',\n",
       "  'is_closed': False,\n",
       "  'url': 'https://www.yelp.com/biz/fat-sullys-pizza-denver-10?adjust_creative=nhyOXwry0_tSX8AWBmAcIw&utm_campaign=yelp_api_v3&utm_medium=api_v3_business_search&utm_source=nhyOXwry0_tSX8AWBmAcIw',\n",
       "  'review_count': 626,\n",
       "  'categories': [{'alias': 'pizza', 'title': 'Pizza'}],\n",
       "  'rating': 3.5,\n",
       "  'coordinates': {'latitude': 39.7403692658637,\n",
       "   'longitude': -104.949198622168},\n",
       "  'transactions': ['pickup', 'delivery'],\n",
       "  'price': '$$',\n",
       "  'location': {'address1': '3237 E Colfax Ave',\n",
       "   'address2': '',\n",
       "   'address3': '',\n",
       "   'city': 'Denver',\n",
       "   'zip_code': '80206',\n",
       "   'country': 'US',\n",
       "   'state': 'CO',\n",
       "   'display_address': ['3237 E Colfax Ave', 'Denver, CO 80206']},\n",
       "  'phone': '+13033931515',\n",
       "  'display_phone': '(303) 393-1515',\n",
       "  'distance': 2919.23038960298},\n",
       " {'id': 'bug5m_Ffzvt42Sr3UkvNjQ',\n",
       "  'alias': 'atomic-cowboy-denver-13',\n",
       "  'name': 'Atomic Cowboy',\n",
       "  'image_url': 'https://s3-media1.fl.yelpcdn.com/bphoto/ANGltKEPljrOvOwj9xzdbQ/o.jpg',\n",
       "  'is_closed': False,\n",
       "  'url': 'https://www.yelp.com/biz/atomic-cowboy-denver-13?adjust_creative=nhyOXwry0_tSX8AWBmAcIw&utm_campaign=yelp_api_v3&utm_medium=api_v3_business_search&utm_source=nhyOXwry0_tSX8AWBmAcIw',\n",
       "  'review_count': 395,\n",
       "  'categories': [{'alias': 'southern', 'title': 'Southern'},\n",
       "   {'alias': 'pizza', 'title': 'Pizza'},\n",
       "   {'alias': 'cocktailbars', 'title': 'Cocktail Bars'}],\n",
       "  'rating': 4.0,\n",
       "  'coordinates': {'latitude': 39.740373, 'longitude': -104.949045},\n",
       "  'transactions': ['pickup', 'delivery'],\n",
       "  'price': '$$',\n",
       "  'location': {'address1': '3237 E Colfax Ave',\n",
       "   'address2': '',\n",
       "   'address3': '',\n",
       "   'city': 'Denver',\n",
       "   'zip_code': '80206',\n",
       "   'country': 'US',\n",
       "   'state': 'CO',\n",
       "   'display_address': ['3237 E Colfax Ave', 'Denver, CO 80206']},\n",
       "  'phone': '+13033777900',\n",
       "  'display_phone': '(303) 377-7900',\n",
       "  'distance': 2926.4780607379316},\n",
       " {'id': 'JW72fi-zkqiSjW4gnUrhkw',\n",
       "  'alias': 'the-pza-denver',\n",
       "  'name': 'The PZA',\n",
       "  'image_url': 'https://s3-media3.fl.yelpcdn.com/bphoto/bpCWsILJ8hbekP-IDjtAnQ/o.jpg',\n",
       "  'is_closed': False,\n",
       "  'url': 'https://www.yelp.com/biz/the-pza-denver?adjust_creative=nhyOXwry0_tSX8AWBmAcIw&utm_campaign=yelp_api_v3&utm_medium=api_v3_business_search&utm_source=nhyOXwry0_tSX8AWBmAcIw',\n",
       "  'review_count': 5,\n",
       "  'categories': [{'alias': 'pizza', 'title': 'Pizza'}],\n",
       "  'rating': 4.5,\n",
       "  'coordinates': {'latitude': 39.7402541543677, 'longitude': -104.9694149},\n",
       "  'transactions': [],\n",
       "  'location': {'address1': '1501 E Colfax Ave',\n",
       "   'address2': '',\n",
       "   'address3': None,\n",
       "   'city': 'Denver',\n",
       "   'zip_code': '80218',\n",
       "   'country': 'US',\n",
       "   'state': 'CO',\n",
       "   'display_address': ['1501 E Colfax Ave', 'Denver, CO 80218']},\n",
       "  'phone': '+17203810034',\n",
       "  'display_phone': '(720) 381-0034',\n",
       "  'distance': 2399.2882793482186}]"
      ]
     },
     "execution_count": 19,
     "metadata": {},
     "output_type": "execute_result"
    }
   ],
   "source": [
    "results['businesses']"
   ]
  },
  {
   "cell_type": "code",
   "execution_count": 20,
   "id": "d38c877c",
   "metadata": {},
   "outputs": [
    {
     "data": {
      "text/plain": [
       "{'center': {'longitude': -104.9688720703125, 'latitude': 39.76182745972278}}"
      ]
     },
     "execution_count": 20,
     "metadata": {},
     "output_type": "execute_result"
    }
   ],
   "source": [
    "results['region']"
   ]
  },
  {
   "cell_type": "code",
   "execution_count": 25,
   "id": "7ad5e737",
   "metadata": {},
   "outputs": [
    {
     "data": {
      "text/plain": [
       "20"
      ]
     },
     "execution_count": 25,
     "metadata": {},
     "output_type": "execute_result"
    }
   ],
   "source": [
    "results_per_page = len(results['businesses'])\n",
    "results_per_page"
   ]
  },
  {
   "cell_type": "code",
   "execution_count": 26,
   "id": "99ea89cf",
   "metadata": {},
   "outputs": [
    {
     "data": {
      "text/plain": [
       "34"
      ]
     },
     "execution_count": 26,
     "metadata": {},
     "output_type": "execute_result"
    }
   ],
   "source": [
    "n_pages = math.ceil((results['total']-n_results)/ results_per_page)\n",
    "n_pages"
   ]
  },
  {
   "cell_type": "code",
   "execution_count": 28,
   "id": "c65469e9",
   "metadata": {},
   "outputs": [
    {
     "data": {
      "application/vnd.jupyter.widget-view+json": {
       "model_id": "9a026e22af1b4c81bc3e10b24882a04a",
       "version_major": 2,
       "version_minor": 0
      },
      "text/plain": [
       "  0%|          | 0/34 [00:00<?, ?it/s]"
      ]
     },
     "metadata": {},
     "output_type": "display_data"
    },
    {
     "name": "stdout",
     "output_type": "stream",
     "text": [
      " [!] ERROR ('Connection aborted.', ConnectionResetError(54, 'Connection reset by peer'))\n"
     ]
    }
   ],
   "source": [
    "for i in tqdm_notebook(range(1,n_pages+1)):\n",
    "    try:\n",
    "        time.sleep(.2) \n",
    "        \n",
    "        with open(JSON_FILE, 'r') as f:\n",
    "            previous_results = json.load(f)\n",
    "        \n",
    "        n_results = len(previous_results)\n",
    "        \n",
    "        results= yelp.search_query(location=location,\n",
    "                                    term=term, \n",
    "                                    offset=n_results+1)\n",
    "    \n",
    "    \n",
    "        \n",
    "        previous_results.extend(results['businesses'])\n",
    "    \n",
    "        with open(JSON_FILE,'w') as f:\n",
    "            json.dump(previous_results,f)\n",
    "        \n",
    "    except Exception as e:\n",
    "        print(' [!] ERROR', e)\n",
    "    \n",
    "    "
   ]
  },
  {
   "cell_type": "code",
   "execution_count": 29,
   "id": "57279f10",
   "metadata": {},
   "outputs": [],
   "source": [
    "df = pd.read_json(JSON_FILE)"
   ]
  },
  {
   "cell_type": "code",
   "execution_count": 30,
   "id": "86ace926",
   "metadata": {},
   "outputs": [
    {
     "data": {
      "text/html": [
       "<div>\n",
       "<style scoped>\n",
       "    .dataframe tbody tr th:only-of-type {\n",
       "        vertical-align: middle;\n",
       "    }\n",
       "\n",
       "    .dataframe tbody tr th {\n",
       "        vertical-align: top;\n",
       "    }\n",
       "\n",
       "    .dataframe thead th {\n",
       "        text-align: right;\n",
       "    }\n",
       "</style>\n",
       "<table border=\"1\" class=\"dataframe\">\n",
       "  <thead>\n",
       "    <tr style=\"text-align: right;\">\n",
       "      <th></th>\n",
       "      <th>id</th>\n",
       "      <th>alias</th>\n",
       "      <th>name</th>\n",
       "      <th>image_url</th>\n",
       "      <th>is_closed</th>\n",
       "      <th>url</th>\n",
       "      <th>review_count</th>\n",
       "      <th>categories</th>\n",
       "      <th>rating</th>\n",
       "      <th>coordinates</th>\n",
       "      <th>transactions</th>\n",
       "      <th>price</th>\n",
       "      <th>location</th>\n",
       "      <th>phone</th>\n",
       "      <th>display_phone</th>\n",
       "      <th>distance</th>\n",
       "    </tr>\n",
       "  </thead>\n",
       "  <tbody>\n",
       "    <tr>\n",
       "      <th>0</th>\n",
       "      <td>ofPa6i98oFCiq0zoWj1cvw</td>\n",
       "      <td>black-shirt-brewing-denver-5</td>\n",
       "      <td>Black Shirt Brewing</td>\n",
       "      <td>https://s3-media3.fl.yelpcdn.com/bphoto/meal5l...</td>\n",
       "      <td>False</td>\n",
       "      <td>https://www.yelp.com/biz/black-shirt-brewing-d...</td>\n",
       "      <td>411</td>\n",
       "      <td>[{'alias': 'breweries', 'title': 'Breweries'},...</td>\n",
       "      <td>4.5</td>\n",
       "      <td>{'latitude': 39.7697672895761, 'longitude': -1...</td>\n",
       "      <td>[delivery, pickup]</td>\n",
       "      <td>$$</td>\n",
       "      <td>{'address1': '3719 Walnut St', 'address2': '',...</td>\n",
       "      <td>+13039932799</td>\n",
       "      <td>(303) 993-2799</td>\n",
       "      <td>948.714510</td>\n",
       "    </tr>\n",
       "    <tr>\n",
       "      <th>1</th>\n",
       "      <td>n18mJPI6mQfBJEp8UrITyw</td>\n",
       "      <td>blue-pan-pizza-denver-4</td>\n",
       "      <td>Blue Pan Pizza</td>\n",
       "      <td>https://s3-media2.fl.yelpcdn.com/bphoto/EAkVmo...</td>\n",
       "      <td>False</td>\n",
       "      <td>https://www.yelp.com/biz/blue-pan-pizza-denver...</td>\n",
       "      <td>697</td>\n",
       "      <td>[{'alias': 'pizza', 'title': 'Pizza'}, {'alias...</td>\n",
       "      <td>4.5</td>\n",
       "      <td>{'latitude': 39.735349, 'longitude': -104.945823}</td>\n",
       "      <td>[delivery]</td>\n",
       "      <td>$$</td>\n",
       "      <td>{'address1': '3509 E 12th Ave', 'address2': ''...</td>\n",
       "      <td>+17205190944</td>\n",
       "      <td>(720) 519-0944</td>\n",
       "      <td>3542.839351</td>\n",
       "    </tr>\n",
       "    <tr>\n",
       "      <th>2</th>\n",
       "      <td>B_1cqks5CI5N_viXXLuLWg</td>\n",
       "      <td>brooklyns-finest-pizza-denver-3</td>\n",
       "      <td>Brooklyn's Finest Pizza</td>\n",
       "      <td>https://s3-media3.fl.yelpcdn.com/bphoto/KZf9Qb...</td>\n",
       "      <td>False</td>\n",
       "      <td>https://www.yelp.com/biz/brooklyns-finest-pizz...</td>\n",
       "      <td>215</td>\n",
       "      <td>[{'alias': 'pizza', 'title': 'Pizza'}, {'alias...</td>\n",
       "      <td>4.5</td>\n",
       "      <td>{'latitude': 39.746419, 'longitude': -104.993448}</td>\n",
       "      <td>[delivery, pickup]</td>\n",
       "      <td>$</td>\n",
       "      <td>{'address1': '825 16th St Mall', 'address2': '...</td>\n",
       "      <td>+13035733779</td>\n",
       "      <td>(303) 573-3779</td>\n",
       "      <td>2710.962636</td>\n",
       "    </tr>\n",
       "    <tr>\n",
       "      <th>3</th>\n",
       "      <td>alVuEHMqyyTpXZKcIfKT9w</td>\n",
       "      <td>white-pie-denver</td>\n",
       "      <td>White Pie</td>\n",
       "      <td>https://s3-media3.fl.yelpcdn.com/bphoto/-v__Wc...</td>\n",
       "      <td>False</td>\n",
       "      <td>https://www.yelp.com/biz/white-pie-denver?adju...</td>\n",
       "      <td>411</td>\n",
       "      <td>[{'alias': 'pizza', 'title': 'Pizza'}, {'alias...</td>\n",
       "      <td>4.5</td>\n",
       "      <td>{'latitude': 39.74348039, 'longitude': -104.96...</td>\n",
       "      <td>[delivery, pickup]</td>\n",
       "      <td>$$</td>\n",
       "      <td>{'address1': '1702 Humboldt St', 'address2': N...</td>\n",
       "      <td>+13038625323</td>\n",
       "      <td>(303) 862-5323</td>\n",
       "      <td>2040.644917</td>\n",
       "    </tr>\n",
       "    <tr>\n",
       "      <th>4</th>\n",
       "      <td>kI5oOBAGS-Vo4chwmgOVmQ</td>\n",
       "      <td>cart-driver-denver</td>\n",
       "      <td>Cart-Driver</td>\n",
       "      <td>https://s3-media1.fl.yelpcdn.com/bphoto/YzE2Pj...</td>\n",
       "      <td>False</td>\n",
       "      <td>https://www.yelp.com/biz/cart-driver-denver?ad...</td>\n",
       "      <td>641</td>\n",
       "      <td>[{'alias': 'pizza', 'title': 'Pizza'}, {'alias...</td>\n",
       "      <td>4.5</td>\n",
       "      <td>{'latitude': 39.7575443618608, 'longitude': -1...</td>\n",
       "      <td>[delivery, pickup]</td>\n",
       "      <td>$$</td>\n",
       "      <td>{'address1': '2500 Larimer St', 'address2': 'S...</td>\n",
       "      <td>+13032923553</td>\n",
       "      <td>(303) 292-3553</td>\n",
       "      <td>1554.610229</td>\n",
       "    </tr>\n",
       "  </tbody>\n",
       "</table>\n",
       "</div>"
      ],
      "text/plain": [
       "                       id                            alias  \\\n",
       "0  ofPa6i98oFCiq0zoWj1cvw     black-shirt-brewing-denver-5   \n",
       "1  n18mJPI6mQfBJEp8UrITyw          blue-pan-pizza-denver-4   \n",
       "2  B_1cqks5CI5N_viXXLuLWg  brooklyns-finest-pizza-denver-3   \n",
       "3  alVuEHMqyyTpXZKcIfKT9w                 white-pie-denver   \n",
       "4  kI5oOBAGS-Vo4chwmgOVmQ               cart-driver-denver   \n",
       "\n",
       "                      name                                          image_url  \\\n",
       "0      Black Shirt Brewing  https://s3-media3.fl.yelpcdn.com/bphoto/meal5l...   \n",
       "1           Blue Pan Pizza  https://s3-media2.fl.yelpcdn.com/bphoto/EAkVmo...   \n",
       "2  Brooklyn's Finest Pizza  https://s3-media3.fl.yelpcdn.com/bphoto/KZf9Qb...   \n",
       "3                White Pie  https://s3-media3.fl.yelpcdn.com/bphoto/-v__Wc...   \n",
       "4              Cart-Driver  https://s3-media1.fl.yelpcdn.com/bphoto/YzE2Pj...   \n",
       "\n",
       "   is_closed                                                url  review_count  \\\n",
       "0      False  https://www.yelp.com/biz/black-shirt-brewing-d...           411   \n",
       "1      False  https://www.yelp.com/biz/blue-pan-pizza-denver...           697   \n",
       "2      False  https://www.yelp.com/biz/brooklyns-finest-pizz...           215   \n",
       "3      False  https://www.yelp.com/biz/white-pie-denver?adju...           411   \n",
       "4      False  https://www.yelp.com/biz/cart-driver-denver?ad...           641   \n",
       "\n",
       "                                          categories  rating  \\\n",
       "0  [{'alias': 'breweries', 'title': 'Breweries'},...     4.5   \n",
       "1  [{'alias': 'pizza', 'title': 'Pizza'}, {'alias...     4.5   \n",
       "2  [{'alias': 'pizza', 'title': 'Pizza'}, {'alias...     4.5   \n",
       "3  [{'alias': 'pizza', 'title': 'Pizza'}, {'alias...     4.5   \n",
       "4  [{'alias': 'pizza', 'title': 'Pizza'}, {'alias...     4.5   \n",
       "\n",
       "                                         coordinates        transactions  \\\n",
       "0  {'latitude': 39.7697672895761, 'longitude': -1...  [delivery, pickup]   \n",
       "1  {'latitude': 39.735349, 'longitude': -104.945823}          [delivery]   \n",
       "2  {'latitude': 39.746419, 'longitude': -104.993448}  [delivery, pickup]   \n",
       "3  {'latitude': 39.74348039, 'longitude': -104.96...  [delivery, pickup]   \n",
       "4  {'latitude': 39.7575443618608, 'longitude': -1...  [delivery, pickup]   \n",
       "\n",
       "  price                                           location         phone  \\\n",
       "0    $$  {'address1': '3719 Walnut St', 'address2': '',...  +13039932799   \n",
       "1    $$  {'address1': '3509 E 12th Ave', 'address2': ''...  +17205190944   \n",
       "2     $  {'address1': '825 16th St Mall', 'address2': '...  +13035733779   \n",
       "3    $$  {'address1': '1702 Humboldt St', 'address2': N...  +13038625323   \n",
       "4    $$  {'address1': '2500 Larimer St', 'address2': 'S...  +13032923553   \n",
       "\n",
       "    display_phone     distance  \n",
       "0  (303) 993-2799   948.714510  \n",
       "1  (720) 519-0944  3542.839351  \n",
       "2  (303) 573-3779  2710.962636  \n",
       "3  (303) 862-5323  2040.644917  \n",
       "4  (303) 292-3553  1554.610229  "
      ]
     },
     "execution_count": 30,
     "metadata": {},
     "output_type": "execute_result"
    }
   ],
   "source": [
    "df.head()"
   ]
  },
  {
   "cell_type": "code",
   "execution_count": 31,
   "id": "ea49aa88",
   "metadata": {},
   "outputs": [
    {
     "name": "stdout",
     "output_type": "stream",
     "text": [
      "<class 'pandas.core.frame.DataFrame'>\n",
      "RangeIndex: 660 entries, 0 to 659\n",
      "Data columns (total 16 columns):\n",
      " #   Column         Non-Null Count  Dtype  \n",
      "---  ------         --------------  -----  \n",
      " 0   id             660 non-null    object \n",
      " 1   alias          660 non-null    object \n",
      " 2   name           660 non-null    object \n",
      " 3   image_url      660 non-null    object \n",
      " 4   is_closed      660 non-null    bool   \n",
      " 5   url            660 non-null    object \n",
      " 6   review_count   660 non-null    int64  \n",
      " 7   categories     660 non-null    object \n",
      " 8   rating         660 non-null    float64\n",
      " 9   coordinates    660 non-null    object \n",
      " 10  transactions   660 non-null    object \n",
      " 11  price          551 non-null    object \n",
      " 12  location       660 non-null    object \n",
      " 13  phone          660 non-null    object \n",
      " 14  display_phone  660 non-null    object \n",
      " 15  distance       660 non-null    float64\n",
      "dtypes: bool(1), float64(2), int64(1), object(12)\n",
      "memory usage: 78.1+ KB\n"
     ]
    }
   ],
   "source": [
    "df.info()"
   ]
  },
  {
   "cell_type": "code",
   "execution_count": null,
   "id": "836a5166",
   "metadata": {},
   "outputs": [],
   "source": []
  }
 ],
 "metadata": {
  "kernelspec": {
   "display_name": "Python (dojo-env)",
   "language": "python",
   "name": "dojo-env"
  },
  "language_info": {
   "codemirror_mode": {
    "name": "ipython",
    "version": 3
   },
   "file_extension": ".py",
   "mimetype": "text/x-python",
   "name": "python",
   "nbconvert_exporter": "python",
   "pygments_lexer": "ipython3",
   "version": "3.9.15"
  },
  "toc": {
   "base_numbering": 1,
   "nav_menu": {},
   "number_sections": false,
   "sideBar": true,
   "skip_h1_title": false,
   "title_cell": "Table of Contents",
   "title_sidebar": "Contents",
   "toc_cell": false,
   "toc_position": {},
   "toc_section_display": true,
   "toc_window_display": false
  }
 },
 "nbformat": 4,
 "nbformat_minor": 5
}
